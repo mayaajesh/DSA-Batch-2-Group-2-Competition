{
 "cells": [
  {
   "cell_type": "markdown",
   "id": "5fdf0e88",
   "metadata": {},
   "source": [
    "# COMPETITION GROUP 2 BATCH 2"
   ]
  },
  {
   "cell_type": "markdown",
   "id": "636f8696",
   "metadata": {},
   "source": [
    "#### GROUP MEMBERS: ABOOBACKER SIDHEEQUE MUKKIL, AJEESH L J, DARSANA BABURAJ, MAYA MOHAN, RASAL V\n"
   ]
  },
  {
   "cell_type": "markdown",
   "id": "00b312e9",
   "metadata": {},
   "source": [
    "#### The aim of the competition is to create an ML model that helps advertisors to find expected engagement  for  the right category of YouTube videos with certain views.                                       "
   ]
  },
  {
   "cell_type": "markdown",
   "id": "90c3048e",
   "metadata": {},
   "source": [
    "## 1. Data Collection                                                                                    \n",
    "Source of dataset: https://www.kaggle.com/datasnaek/youtube-new/version/115?select=INvideos.csv"
   ]
  },
  {
   "cell_type": "code",
   "execution_count": 1,
   "id": "42fc377d",
   "metadata": {},
   "outputs": [],
   "source": [
    "import numpy as np\n",
    "import pandas as pd\n",
    "import matplotlib.pyplot as plt\n",
    "import seaborn as sns"
   ]
  },
  {
   "cell_type": "code",
   "execution_count": 2,
   "id": "855b3159",
   "metadata": {},
   "outputs": [],
   "source": [
    "data=pd.read_csv('D:/Data Analytics/Case study/competition/INvideos.csv')"
   ]
  },
  {
   "cell_type": "code",
   "execution_count": 3,
   "id": "50677a52",
   "metadata": {
    "scrolled": true
   },
   "outputs": [
    {
     "data": {
      "text/html": [
       "<div>\n",
       "<style scoped>\n",
       "    .dataframe tbody tr th:only-of-type {\n",
       "        vertical-align: middle;\n",
       "    }\n",
       "\n",
       "    .dataframe tbody tr th {\n",
       "        vertical-align: top;\n",
       "    }\n",
       "\n",
       "    .dataframe thead th {\n",
       "        text-align: right;\n",
       "    }\n",
       "</style>\n",
       "<table border=\"1\" class=\"dataframe\">\n",
       "  <thead>\n",
       "    <tr style=\"text-align: right;\">\n",
       "      <th></th>\n",
       "      <th>video_id</th>\n",
       "      <th>trending_date</th>\n",
       "      <th>title</th>\n",
       "      <th>channel_title</th>\n",
       "      <th>category_id</th>\n",
       "      <th>publish_time</th>\n",
       "      <th>tags</th>\n",
       "      <th>views</th>\n",
       "      <th>likes</th>\n",
       "      <th>dislikes</th>\n",
       "      <th>comment_count</th>\n",
       "      <th>thumbnail_link</th>\n",
       "      <th>comments_disabled</th>\n",
       "      <th>ratings_disabled</th>\n",
       "      <th>video_error_or_removed</th>\n",
       "      <th>description</th>\n",
       "    </tr>\n",
       "  </thead>\n",
       "  <tbody>\n",
       "    <tr>\n",
       "      <th>0</th>\n",
       "      <td>kzwfHumJyYc</td>\n",
       "      <td>17.14.11</td>\n",
       "      <td>Sharry Mann: Cute Munda ( Song Teaser) | Parmi...</td>\n",
       "      <td>Lokdhun Punjabi</td>\n",
       "      <td>1</td>\n",
       "      <td>2017-11-12T12:20:39.000Z</td>\n",
       "      <td>sharry mann|\"sharry mann new song\"|\"sharry man...</td>\n",
       "      <td>1096327</td>\n",
       "      <td>33966</td>\n",
       "      <td>798</td>\n",
       "      <td>882</td>\n",
       "      <td>https://i.ytimg.com/vi/kzwfHumJyYc/default.jpg</td>\n",
       "      <td>False</td>\n",
       "      <td>False</td>\n",
       "      <td>False</td>\n",
       "      <td>Presenting Sharry Mann latest Punjabi Song  Cu...</td>\n",
       "    </tr>\n",
       "    <tr>\n",
       "      <th>1</th>\n",
       "      <td>zUZ1z7FwLc8</td>\n",
       "      <td>17.14.11</td>\n",
       "      <td>पीरियड्स के समय, पेट पर पति करता ऐसा, देखकर दं...</td>\n",
       "      <td>HJ NEWS</td>\n",
       "      <td>25</td>\n",
       "      <td>2017-11-13T05:43:56.000Z</td>\n",
       "      <td>पीरियड्स के समय|\"पेट पर पति करता ऐसा\"|\"देखकर द...</td>\n",
       "      <td>590101</td>\n",
       "      <td>735</td>\n",
       "      <td>904</td>\n",
       "      <td>0</td>\n",
       "      <td>https://i.ytimg.com/vi/zUZ1z7FwLc8/default.jpg</td>\n",
       "      <td>True</td>\n",
       "      <td>False</td>\n",
       "      <td>False</td>\n",
       "      <td>पीरियड्स के समय, पेट पर पति करता ऐसा, देखकर दं...</td>\n",
       "    </tr>\n",
       "    <tr>\n",
       "      <th>2</th>\n",
       "      <td>10L1hZ9qa58</td>\n",
       "      <td>17.14.11</td>\n",
       "      <td>Stylish Star Allu Arjun @ ChaySam Wedding Rece...</td>\n",
       "      <td>TFPC</td>\n",
       "      <td>24</td>\n",
       "      <td>2017-11-12T15:48:08.000Z</td>\n",
       "      <td>Stylish Star Allu Arjun @ ChaySam Wedding Rece...</td>\n",
       "      <td>473988</td>\n",
       "      <td>2011</td>\n",
       "      <td>243</td>\n",
       "      <td>149</td>\n",
       "      <td>https://i.ytimg.com/vi/10L1hZ9qa58/default.jpg</td>\n",
       "      <td>False</td>\n",
       "      <td>False</td>\n",
       "      <td>False</td>\n",
       "      <td>Watch Stylish Star Allu Arjun @ ChaySam Weddin...</td>\n",
       "    </tr>\n",
       "    <tr>\n",
       "      <th>3</th>\n",
       "      <td>N1vE8iiEg64</td>\n",
       "      <td>17.14.11</td>\n",
       "      <td>Eruma Saani | Tamil vs English</td>\n",
       "      <td>Eruma Saani</td>\n",
       "      <td>23</td>\n",
       "      <td>2017-11-12T07:08:48.000Z</td>\n",
       "      <td>Eruma Saani|\"Tamil Comedy Videos\"|\"Films\"|\"Mov...</td>\n",
       "      <td>1242680</td>\n",
       "      <td>70353</td>\n",
       "      <td>1624</td>\n",
       "      <td>2684</td>\n",
       "      <td>https://i.ytimg.com/vi/N1vE8iiEg64/default.jpg</td>\n",
       "      <td>False</td>\n",
       "      <td>False</td>\n",
       "      <td>False</td>\n",
       "      <td>This video showcases the difference between pe...</td>\n",
       "    </tr>\n",
       "    <tr>\n",
       "      <th>4</th>\n",
       "      <td>kJzGH0PVQHQ</td>\n",
       "      <td>17.14.11</td>\n",
       "      <td>why Samantha became EMOTIONAL @ Samantha naga ...</td>\n",
       "      <td>Filmylooks</td>\n",
       "      <td>24</td>\n",
       "      <td>2017-11-13T01:14:16.000Z</td>\n",
       "      <td>Filmylooks|\"latest news\"|\"telugu movies\"|\"telu...</td>\n",
       "      <td>464015</td>\n",
       "      <td>492</td>\n",
       "      <td>293</td>\n",
       "      <td>66</td>\n",
       "      <td>https://i.ytimg.com/vi/kJzGH0PVQHQ/default.jpg</td>\n",
       "      <td>False</td>\n",
       "      <td>False</td>\n",
       "      <td>False</td>\n",
       "      <td>why Samantha became EMOTIONAL @ Samantha naga ...</td>\n",
       "    </tr>\n",
       "  </tbody>\n",
       "</table>\n",
       "</div>"
      ],
      "text/plain": [
       "      video_id trending_date  \\\n",
       "0  kzwfHumJyYc      17.14.11   \n",
       "1  zUZ1z7FwLc8      17.14.11   \n",
       "2  10L1hZ9qa58      17.14.11   \n",
       "3  N1vE8iiEg64      17.14.11   \n",
       "4  kJzGH0PVQHQ      17.14.11   \n",
       "\n",
       "                                               title    channel_title  \\\n",
       "0  Sharry Mann: Cute Munda ( Song Teaser) | Parmi...  Lokdhun Punjabi   \n",
       "1  पीरियड्स के समय, पेट पर पति करता ऐसा, देखकर दं...          HJ NEWS   \n",
       "2  Stylish Star Allu Arjun @ ChaySam Wedding Rece...             TFPC   \n",
       "3                     Eruma Saani | Tamil vs English      Eruma Saani   \n",
       "4  why Samantha became EMOTIONAL @ Samantha naga ...       Filmylooks   \n",
       "\n",
       "   category_id              publish_time  \\\n",
       "0            1  2017-11-12T12:20:39.000Z   \n",
       "1           25  2017-11-13T05:43:56.000Z   \n",
       "2           24  2017-11-12T15:48:08.000Z   \n",
       "3           23  2017-11-12T07:08:48.000Z   \n",
       "4           24  2017-11-13T01:14:16.000Z   \n",
       "\n",
       "                                                tags    views  likes  \\\n",
       "0  sharry mann|\"sharry mann new song\"|\"sharry man...  1096327  33966   \n",
       "1  पीरियड्स के समय|\"पेट पर पति करता ऐसा\"|\"देखकर द...   590101    735   \n",
       "2  Stylish Star Allu Arjun @ ChaySam Wedding Rece...   473988   2011   \n",
       "3  Eruma Saani|\"Tamil Comedy Videos\"|\"Films\"|\"Mov...  1242680  70353   \n",
       "4  Filmylooks|\"latest news\"|\"telugu movies\"|\"telu...   464015    492   \n",
       "\n",
       "   dislikes  comment_count                                  thumbnail_link  \\\n",
       "0       798            882  https://i.ytimg.com/vi/kzwfHumJyYc/default.jpg   \n",
       "1       904              0  https://i.ytimg.com/vi/zUZ1z7FwLc8/default.jpg   \n",
       "2       243            149  https://i.ytimg.com/vi/10L1hZ9qa58/default.jpg   \n",
       "3      1624           2684  https://i.ytimg.com/vi/N1vE8iiEg64/default.jpg   \n",
       "4       293             66  https://i.ytimg.com/vi/kJzGH0PVQHQ/default.jpg   \n",
       "\n",
       "   comments_disabled  ratings_disabled  video_error_or_removed  \\\n",
       "0              False             False                   False   \n",
       "1               True             False                   False   \n",
       "2              False             False                   False   \n",
       "3              False             False                   False   \n",
       "4              False             False                   False   \n",
       "\n",
       "                                         description  \n",
       "0  Presenting Sharry Mann latest Punjabi Song  Cu...  \n",
       "1  पीरियड्स के समय, पेट पर पति करता ऐसा, देखकर दं...  \n",
       "2  Watch Stylish Star Allu Arjun @ ChaySam Weddin...  \n",
       "3  This video showcases the difference between pe...  \n",
       "4  why Samantha became EMOTIONAL @ Samantha naga ...  "
      ]
     },
     "execution_count": 3,
     "metadata": {},
     "output_type": "execute_result"
    }
   ],
   "source": [
    "data.head()"
   ]
  },
  {
   "cell_type": "code",
   "execution_count": 4,
   "id": "55b8b33f",
   "metadata": {},
   "outputs": [
    {
     "data": {
      "text/plain": [
       "Index(['video_id', 'trending_date', 'title', 'channel_title', 'category_id',\n",
       "       'publish_time', 'tags', 'views', 'likes', 'dislikes', 'comment_count',\n",
       "       'thumbnail_link', 'comments_disabled', 'ratings_disabled',\n",
       "       'video_error_or_removed', 'description'],\n",
       "      dtype='object')"
      ]
     },
     "execution_count": 4,
     "metadata": {},
     "output_type": "execute_result"
    }
   ],
   "source": [
    "data.columns"
   ]
  },
  {
   "cell_type": "code",
   "execution_count": 5,
   "id": "0c2a2596",
   "metadata": {},
   "outputs": [
    {
     "data": {
      "text/plain": [
       "(37352, 16)"
      ]
     },
     "execution_count": 5,
     "metadata": {},
     "output_type": "execute_result"
    }
   ],
   "source": [
    "data.shape"
   ]
  },
  {
   "cell_type": "code",
   "execution_count": 6,
   "id": "c059b7c3",
   "metadata": {},
   "outputs": [
    {
     "name": "stdout",
     "output_type": "stream",
     "text": [
      "<class 'pandas.core.frame.DataFrame'>\n",
      "RangeIndex: 37352 entries, 0 to 37351\n",
      "Data columns (total 16 columns):\n",
      " #   Column                  Non-Null Count  Dtype \n",
      "---  ------                  --------------  ----- \n",
      " 0   video_id                37352 non-null  object\n",
      " 1   trending_date           37352 non-null  object\n",
      " 2   title                   37352 non-null  object\n",
      " 3   channel_title           37352 non-null  object\n",
      " 4   category_id             37352 non-null  int64 \n",
      " 5   publish_time            37352 non-null  object\n",
      " 6   tags                    37352 non-null  object\n",
      " 7   views                   37352 non-null  int64 \n",
      " 8   likes                   37352 non-null  int64 \n",
      " 9   dislikes                37352 non-null  int64 \n",
      " 10  comment_count           37352 non-null  int64 \n",
      " 11  thumbnail_link          37352 non-null  object\n",
      " 12  comments_disabled       37352 non-null  bool  \n",
      " 13  ratings_disabled        37352 non-null  bool  \n",
      " 14  video_error_or_removed  37352 non-null  bool  \n",
      " 15  description             36791 non-null  object\n",
      "dtypes: bool(3), int64(5), object(8)\n",
      "memory usage: 3.8+ MB\n"
     ]
    }
   ],
   "source": [
    "data.info()"
   ]
  },
  {
   "cell_type": "code",
   "execution_count": 7,
   "id": "56eb4cea",
   "metadata": {},
   "outputs": [
    {
     "data": {
      "text/html": [
       "<div>\n",
       "<style scoped>\n",
       "    .dataframe tbody tr th:only-of-type {\n",
       "        vertical-align: middle;\n",
       "    }\n",
       "\n",
       "    .dataframe tbody tr th {\n",
       "        vertical-align: top;\n",
       "    }\n",
       "\n",
       "    .dataframe thead th {\n",
       "        text-align: right;\n",
       "    }\n",
       "</style>\n",
       "<table border=\"1\" class=\"dataframe\">\n",
       "  <thead>\n",
       "    <tr style=\"text-align: right;\">\n",
       "      <th></th>\n",
       "      <th>category_id</th>\n",
       "      <th>views</th>\n",
       "      <th>likes</th>\n",
       "      <th>dislikes</th>\n",
       "      <th>comment_count</th>\n",
       "    </tr>\n",
       "  </thead>\n",
       "  <tbody>\n",
       "    <tr>\n",
       "      <th>count</th>\n",
       "      <td>37352.000000</td>\n",
       "      <td>3.735200e+04</td>\n",
       "      <td>3.735200e+04</td>\n",
       "      <td>3.735200e+04</td>\n",
       "      <td>37352.00000</td>\n",
       "    </tr>\n",
       "    <tr>\n",
       "      <th>mean</th>\n",
       "      <td>21.576596</td>\n",
       "      <td>1.060478e+06</td>\n",
       "      <td>2.708272e+04</td>\n",
       "      <td>1.665082e+03</td>\n",
       "      <td>2676.99743</td>\n",
       "    </tr>\n",
       "    <tr>\n",
       "      <th>std</th>\n",
       "      <td>6.556593</td>\n",
       "      <td>3.184932e+06</td>\n",
       "      <td>9.714510e+04</td>\n",
       "      <td>1.607617e+04</td>\n",
       "      <td>14868.31713</td>\n",
       "    </tr>\n",
       "    <tr>\n",
       "      <th>min</th>\n",
       "      <td>1.000000</td>\n",
       "      <td>4.024000e+03</td>\n",
       "      <td>0.000000e+00</td>\n",
       "      <td>0.000000e+00</td>\n",
       "      <td>0.00000</td>\n",
       "    </tr>\n",
       "    <tr>\n",
       "      <th>25%</th>\n",
       "      <td>23.000000</td>\n",
       "      <td>1.239155e+05</td>\n",
       "      <td>8.640000e+02</td>\n",
       "      <td>1.080000e+02</td>\n",
       "      <td>81.00000</td>\n",
       "    </tr>\n",
       "    <tr>\n",
       "      <th>50%</th>\n",
       "      <td>24.000000</td>\n",
       "      <td>3.045860e+05</td>\n",
       "      <td>3.069000e+03</td>\n",
       "      <td>3.260000e+02</td>\n",
       "      <td>329.00000</td>\n",
       "    </tr>\n",
       "    <tr>\n",
       "      <th>75%</th>\n",
       "      <td>24.000000</td>\n",
       "      <td>7.992912e+05</td>\n",
       "      <td>1.377425e+04</td>\n",
       "      <td>1.019250e+03</td>\n",
       "      <td>1285.00000</td>\n",
       "    </tr>\n",
       "    <tr>\n",
       "      <th>max</th>\n",
       "      <td>43.000000</td>\n",
       "      <td>1.254322e+08</td>\n",
       "      <td>2.912710e+06</td>\n",
       "      <td>1.545017e+06</td>\n",
       "      <td>827755.00000</td>\n",
       "    </tr>\n",
       "  </tbody>\n",
       "</table>\n",
       "</div>"
      ],
      "text/plain": [
       "        category_id         views         likes      dislikes  comment_count\n",
       "count  37352.000000  3.735200e+04  3.735200e+04  3.735200e+04    37352.00000\n",
       "mean      21.576596  1.060478e+06  2.708272e+04  1.665082e+03     2676.99743\n",
       "std        6.556593  3.184932e+06  9.714510e+04  1.607617e+04    14868.31713\n",
       "min        1.000000  4.024000e+03  0.000000e+00  0.000000e+00        0.00000\n",
       "25%       23.000000  1.239155e+05  8.640000e+02  1.080000e+02       81.00000\n",
       "50%       24.000000  3.045860e+05  3.069000e+03  3.260000e+02      329.00000\n",
       "75%       24.000000  7.992912e+05  1.377425e+04  1.019250e+03     1285.00000\n",
       "max       43.000000  1.254322e+08  2.912710e+06  1.545017e+06   827755.00000"
      ]
     },
     "execution_count": 7,
     "metadata": {},
     "output_type": "execute_result"
    }
   ],
   "source": [
    "data.describe()"
   ]
  },
  {
   "cell_type": "markdown",
   "id": "2032ef18",
   "metadata": {},
   "source": [
    "# 2. Preprocessing"
   ]
  },
  {
   "cell_type": "markdown",
   "id": "3f440cd4",
   "metadata": {},
   "source": [
    "### 2.1 Handling missing values"
   ]
  },
  {
   "cell_type": "code",
   "execution_count": 8,
   "id": "cf9f67d1",
   "metadata": {},
   "outputs": [
    {
     "data": {
      "text/plain": [
       "video_id                    0\n",
       "trending_date               0\n",
       "title                       0\n",
       "channel_title               0\n",
       "category_id                 0\n",
       "publish_time                0\n",
       "tags                        0\n",
       "views                       0\n",
       "likes                       0\n",
       "dislikes                    0\n",
       "comment_count               0\n",
       "thumbnail_link              0\n",
       "comments_disabled           0\n",
       "ratings_disabled            0\n",
       "video_error_or_removed      0\n",
       "description               561\n",
       "dtype: int64"
      ]
     },
     "execution_count": 8,
     "metadata": {},
     "output_type": "execute_result"
    }
   ],
   "source": [
    "data.isna().sum()"
   ]
  },
  {
   "cell_type": "code",
   "execution_count": 9,
   "id": "230052ee",
   "metadata": {},
   "outputs": [],
   "source": [
    "# Dropping description column since it contains multiple null values"
   ]
  },
  {
   "cell_type": "code",
   "execution_count": 10,
   "id": "302e0538",
   "metadata": {},
   "outputs": [],
   "source": [
    "data.drop(['description'],axis=1,inplace=True)"
   ]
  },
  {
   "cell_type": "code",
   "execution_count": 11,
   "id": "86018399",
   "metadata": {},
   "outputs": [
    {
     "data": {
      "text/plain": [
       "video_id                  0\n",
       "trending_date             0\n",
       "title                     0\n",
       "channel_title             0\n",
       "category_id               0\n",
       "publish_time              0\n",
       "tags                      0\n",
       "views                     0\n",
       "likes                     0\n",
       "dislikes                  0\n",
       "comment_count             0\n",
       "thumbnail_link            0\n",
       "comments_disabled         0\n",
       "ratings_disabled          0\n",
       "video_error_or_removed    0\n",
       "dtype: int64"
      ]
     },
     "execution_count": 11,
     "metadata": {},
     "output_type": "execute_result"
    }
   ],
   "source": [
    "data.isna().sum()"
   ]
  },
  {
   "cell_type": "code",
   "execution_count": 12,
   "id": "f8d9a1ff",
   "metadata": {},
   "outputs": [
    {
     "data": {
      "text/plain": [
       "Index(['video_id', 'trending_date', 'title', 'channel_title', 'category_id',\n",
       "       'publish_time', 'tags', 'views', 'likes', 'dislikes', 'comment_count',\n",
       "       'thumbnail_link', 'comments_disabled', 'ratings_disabled',\n",
       "       'video_error_or_removed'],\n",
       "      dtype='object')"
      ]
     },
     "execution_count": 12,
     "metadata": {},
     "output_type": "execute_result"
    }
   ],
   "source": [
    "data.columns"
   ]
  },
  {
   "cell_type": "markdown",
   "id": "2af3effd",
   "metadata": {},
   "source": [
    "### 2.2 Feature Reduction"
   ]
  },
  {
   "cell_type": "code",
   "execution_count": 13,
   "id": "50fa65b5",
   "metadata": {},
   "outputs": [
    {
     "data": {
      "text/plain": [
       "video_id                  16307\n",
       "trending_date               205\n",
       "title                     16721\n",
       "channel_title              1426\n",
       "category_id                  17\n",
       "publish_time              16339\n",
       "tags                      12578\n",
       "views                     32136\n",
       "likes                     15529\n",
       "dislikes                   5079\n",
       "comment_count              6027\n",
       "thumbnail_link            16523\n",
       "comments_disabled             2\n",
       "ratings_disabled              2\n",
       "video_error_or_removed        2\n",
       "dtype: int64"
      ]
     },
     "execution_count": 13,
     "metadata": {},
     "output_type": "execute_result"
    }
   ],
   "source": [
    "data.nunique()"
   ]
  },
  {
   "cell_type": "markdown",
   "id": "95069bd1",
   "metadata": {},
   "source": [
    "#### 2.2.1 Feature reducing columns that seems irrelevent"
   ]
  },
  {
   "cell_type": "code",
   "execution_count": 14,
   "id": "37176c5a",
   "metadata": {},
   "outputs": [],
   "source": [
    "data.drop(['video_id','channel_title', 'trending_date','publish_time', 'tags','thumbnail_link'],axis=1,inplace=True)"
   ]
  },
  {
   "cell_type": "code",
   "execution_count": 15,
   "id": "f76a5b44",
   "metadata": {},
   "outputs": [
    {
     "data": {
      "text/html": [
       "<div>\n",
       "<style scoped>\n",
       "    .dataframe tbody tr th:only-of-type {\n",
       "        vertical-align: middle;\n",
       "    }\n",
       "\n",
       "    .dataframe tbody tr th {\n",
       "        vertical-align: top;\n",
       "    }\n",
       "\n",
       "    .dataframe thead th {\n",
       "        text-align: right;\n",
       "    }\n",
       "</style>\n",
       "<table border=\"1\" class=\"dataframe\">\n",
       "  <thead>\n",
       "    <tr style=\"text-align: right;\">\n",
       "      <th></th>\n",
       "      <th>title</th>\n",
       "      <th>category_id</th>\n",
       "      <th>views</th>\n",
       "      <th>likes</th>\n",
       "      <th>dislikes</th>\n",
       "      <th>comment_count</th>\n",
       "      <th>comments_disabled</th>\n",
       "      <th>ratings_disabled</th>\n",
       "      <th>video_error_or_removed</th>\n",
       "    </tr>\n",
       "  </thead>\n",
       "  <tbody>\n",
       "    <tr>\n",
       "      <th>0</th>\n",
       "      <td>Sharry Mann: Cute Munda ( Song Teaser) | Parmi...</td>\n",
       "      <td>1</td>\n",
       "      <td>1096327</td>\n",
       "      <td>33966</td>\n",
       "      <td>798</td>\n",
       "      <td>882</td>\n",
       "      <td>False</td>\n",
       "      <td>False</td>\n",
       "      <td>False</td>\n",
       "    </tr>\n",
       "    <tr>\n",
       "      <th>1</th>\n",
       "      <td>पीरियड्स के समय, पेट पर पति करता ऐसा, देखकर दं...</td>\n",
       "      <td>25</td>\n",
       "      <td>590101</td>\n",
       "      <td>735</td>\n",
       "      <td>904</td>\n",
       "      <td>0</td>\n",
       "      <td>True</td>\n",
       "      <td>False</td>\n",
       "      <td>False</td>\n",
       "    </tr>\n",
       "    <tr>\n",
       "      <th>2</th>\n",
       "      <td>Stylish Star Allu Arjun @ ChaySam Wedding Rece...</td>\n",
       "      <td>24</td>\n",
       "      <td>473988</td>\n",
       "      <td>2011</td>\n",
       "      <td>243</td>\n",
       "      <td>149</td>\n",
       "      <td>False</td>\n",
       "      <td>False</td>\n",
       "      <td>False</td>\n",
       "    </tr>\n",
       "    <tr>\n",
       "      <th>3</th>\n",
       "      <td>Eruma Saani | Tamil vs English</td>\n",
       "      <td>23</td>\n",
       "      <td>1242680</td>\n",
       "      <td>70353</td>\n",
       "      <td>1624</td>\n",
       "      <td>2684</td>\n",
       "      <td>False</td>\n",
       "      <td>False</td>\n",
       "      <td>False</td>\n",
       "    </tr>\n",
       "    <tr>\n",
       "      <th>4</th>\n",
       "      <td>why Samantha became EMOTIONAL @ Samantha naga ...</td>\n",
       "      <td>24</td>\n",
       "      <td>464015</td>\n",
       "      <td>492</td>\n",
       "      <td>293</td>\n",
       "      <td>66</td>\n",
       "      <td>False</td>\n",
       "      <td>False</td>\n",
       "      <td>False</td>\n",
       "    </tr>\n",
       "  </tbody>\n",
       "</table>\n",
       "</div>"
      ],
      "text/plain": [
       "                                               title  category_id    views  \\\n",
       "0  Sharry Mann: Cute Munda ( Song Teaser) | Parmi...            1  1096327   \n",
       "1  पीरियड्स के समय, पेट पर पति करता ऐसा, देखकर दं...           25   590101   \n",
       "2  Stylish Star Allu Arjun @ ChaySam Wedding Rece...           24   473988   \n",
       "3                     Eruma Saani | Tamil vs English           23  1242680   \n",
       "4  why Samantha became EMOTIONAL @ Samantha naga ...           24   464015   \n",
       "\n",
       "   likes  dislikes  comment_count  comments_disabled  ratings_disabled  \\\n",
       "0  33966       798            882              False             False   \n",
       "1    735       904              0               True             False   \n",
       "2   2011       243            149              False             False   \n",
       "3  70353      1624           2684              False             False   \n",
       "4    492       293             66              False             False   \n",
       "\n",
       "   video_error_or_removed  \n",
       "0                   False  \n",
       "1                   False  \n",
       "2                   False  \n",
       "3                   False  \n",
       "4                   False  "
      ]
     },
     "execution_count": 15,
     "metadata": {},
     "output_type": "execute_result"
    }
   ],
   "source": [
    "data.head()"
   ]
  },
  {
   "cell_type": "markdown",
   "id": "d179d672",
   "metadata": {},
   "source": [
    "#### 2.2.2 Checking the nunber of rows in which comments are disabled"
   ]
  },
  {
   "cell_type": "code",
   "execution_count": 16,
   "id": "4d6cb894",
   "metadata": {},
   "outputs": [
    {
     "data": {
      "text/html": [
       "<div>\n",
       "<style scoped>\n",
       "    .dataframe tbody tr th:only-of-type {\n",
       "        vertical-align: middle;\n",
       "    }\n",
       "\n",
       "    .dataframe tbody tr th {\n",
       "        vertical-align: top;\n",
       "    }\n",
       "\n",
       "    .dataframe thead th {\n",
       "        text-align: right;\n",
       "    }\n",
       "</style>\n",
       "<table border=\"1\" class=\"dataframe\">\n",
       "  <thead>\n",
       "    <tr style=\"text-align: right;\">\n",
       "      <th></th>\n",
       "      <th>title</th>\n",
       "      <th>category_id</th>\n",
       "      <th>views</th>\n",
       "      <th>likes</th>\n",
       "      <th>dislikes</th>\n",
       "      <th>comment_count</th>\n",
       "      <th>comments_disabled</th>\n",
       "      <th>ratings_disabled</th>\n",
       "      <th>video_error_or_removed</th>\n",
       "    </tr>\n",
       "  </thead>\n",
       "  <tbody>\n",
       "    <tr>\n",
       "      <th>1</th>\n",
       "      <td>पीरियड्स के समय, पेट पर पति करता ऐसा, देखकर दं...</td>\n",
       "      <td>25</td>\n",
       "      <td>590101</td>\n",
       "      <td>735</td>\n",
       "      <td>904</td>\n",
       "      <td>0</td>\n",
       "      <td>True</td>\n",
       "      <td>False</td>\n",
       "      <td>False</td>\n",
       "    </tr>\n",
       "    <tr>\n",
       "      <th>12</th>\n",
       "      <td>Renu Desai Gives Rating For Pawan kalyan As Hu...</td>\n",
       "      <td>25</td>\n",
       "      <td>156085</td>\n",
       "      <td>716</td>\n",
       "      <td>53</td>\n",
       "      <td>0</td>\n",
       "      <td>True</td>\n",
       "      <td>False</td>\n",
       "      <td>False</td>\n",
       "    </tr>\n",
       "    <tr>\n",
       "      <th>36</th>\n",
       "      <td>కెమెరాలో రికార్డ్ అయిన ఈ అద్భుతాన్ని చూస్తే ఆశ...</td>\n",
       "      <td>26</td>\n",
       "      <td>128851</td>\n",
       "      <td>0</td>\n",
       "      <td>0</td>\n",
       "      <td>0</td>\n",
       "      <td>True</td>\n",
       "      <td>True</td>\n",
       "      <td>False</td>\n",
       "    </tr>\n",
       "    <tr>\n",
       "      <th>70</th>\n",
       "      <td>Mission IAS 2018 : 13 November, 2017 The Hindu...</td>\n",
       "      <td>27</td>\n",
       "      <td>23114</td>\n",
       "      <td>0</td>\n",
       "      <td>0</td>\n",
       "      <td>0</td>\n",
       "      <td>True</td>\n",
       "      <td>True</td>\n",
       "      <td>False</td>\n",
       "    </tr>\n",
       "    <tr>\n",
       "      <th>82</th>\n",
       "      <td>హిజ్రాల నుంచి ఈ వస్తువు తీసుకుంటే మీ జీవితం మా...</td>\n",
       "      <td>22</td>\n",
       "      <td>65054</td>\n",
       "      <td>349</td>\n",
       "      <td>28</td>\n",
       "      <td>0</td>\n",
       "      <td>True</td>\n",
       "      <td>False</td>\n",
       "      <td>False</td>\n",
       "    </tr>\n",
       "    <tr>\n",
       "      <th>...</th>\n",
       "      <td>...</td>\n",
       "      <td>...</td>\n",
       "      <td>...</td>\n",
       "      <td>...</td>\n",
       "      <td>...</td>\n",
       "      <td>...</td>\n",
       "      <td>...</td>\n",
       "      <td>...</td>\n",
       "      <td>...</td>\n",
       "    </tr>\n",
       "    <tr>\n",
       "      <th>35997</th>\n",
       "      <td>Nani Opens Up about Big Boss Show | NTR | Bigg...</td>\n",
       "      <td>24</td>\n",
       "      <td>140258</td>\n",
       "      <td>451</td>\n",
       "      <td>529</td>\n",
       "      <td>0</td>\n",
       "      <td>True</td>\n",
       "      <td>False</td>\n",
       "      <td>False</td>\n",
       "    </tr>\n",
       "    <tr>\n",
       "      <th>36068</th>\n",
       "      <td>New South Indian Full Hindi Dubbed Movie - Dil...</td>\n",
       "      <td>1</td>\n",
       "      <td>1257942</td>\n",
       "      <td>3615</td>\n",
       "      <td>823</td>\n",
       "      <td>0</td>\n",
       "      <td>True</td>\n",
       "      <td>False</td>\n",
       "      <td>False</td>\n",
       "    </tr>\n",
       "    <tr>\n",
       "      <th>36213</th>\n",
       "      <td>Things SIKH people are tired of hearing - Neve...</td>\n",
       "      <td>24</td>\n",
       "      <td>58774</td>\n",
       "      <td>0</td>\n",
       "      <td>0</td>\n",
       "      <td>0</td>\n",
       "      <td>True</td>\n",
       "      <td>True</td>\n",
       "      <td>False</td>\n",
       "    </tr>\n",
       "    <tr>\n",
       "      <th>36598</th>\n",
       "      <td>ఏసీల్లో కూర్చొని ఎవరైనా మాట్లాడుతారు..</td>\n",
       "      <td>25</td>\n",
       "      <td>95939</td>\n",
       "      <td>0</td>\n",
       "      <td>0</td>\n",
       "      <td>0</td>\n",
       "      <td>True</td>\n",
       "      <td>True</td>\n",
       "      <td>False</td>\n",
       "    </tr>\n",
       "    <tr>\n",
       "      <th>36771</th>\n",
       "      <td>ఏసీల్లో కూర్చొని ఎవరైనా మాట్లాడుతారు..</td>\n",
       "      <td>25</td>\n",
       "      <td>117357</td>\n",
       "      <td>0</td>\n",
       "      <td>0</td>\n",
       "      <td>0</td>\n",
       "      <td>True</td>\n",
       "      <td>True</td>\n",
       "      <td>False</td>\n",
       "    </tr>\n",
       "  </tbody>\n",
       "</table>\n",
       "<p>1204 rows × 9 columns</p>\n",
       "</div>"
      ],
      "text/plain": [
       "                                                   title  category_id  \\\n",
       "1      पीरियड्स के समय, पेट पर पति करता ऐसा, देखकर दं...           25   \n",
       "12     Renu Desai Gives Rating For Pawan kalyan As Hu...           25   \n",
       "36     కెమెరాలో రికార్డ్ అయిన ఈ అద్భుతాన్ని చూస్తే ఆశ...           26   \n",
       "70     Mission IAS 2018 : 13 November, 2017 The Hindu...           27   \n",
       "82     హిజ్రాల నుంచి ఈ వస్తువు తీసుకుంటే మీ జీవితం మా...           22   \n",
       "...                                                  ...          ...   \n",
       "35997  Nani Opens Up about Big Boss Show | NTR | Bigg...           24   \n",
       "36068  New South Indian Full Hindi Dubbed Movie - Dil...            1   \n",
       "36213  Things SIKH people are tired of hearing - Neve...           24   \n",
       "36598             ఏసీల్లో కూర్చొని ఎవరైనా మాట్లాడుతారు..           25   \n",
       "36771             ఏసీల్లో కూర్చొని ఎవరైనా మాట్లాడుతారు..           25   \n",
       "\n",
       "         views  likes  dislikes  comment_count  comments_disabled  \\\n",
       "1       590101    735       904              0               True   \n",
       "12      156085    716        53              0               True   \n",
       "36      128851      0         0              0               True   \n",
       "70       23114      0         0              0               True   \n",
       "82       65054    349        28              0               True   \n",
       "...        ...    ...       ...            ...                ...   \n",
       "35997   140258    451       529              0               True   \n",
       "36068  1257942   3615       823              0               True   \n",
       "36213    58774      0         0              0               True   \n",
       "36598    95939      0         0              0               True   \n",
       "36771   117357      0         0              0               True   \n",
       "\n",
       "       ratings_disabled  video_error_or_removed  \n",
       "1                 False                   False  \n",
       "12                False                   False  \n",
       "36                 True                   False  \n",
       "70                 True                   False  \n",
       "82                False                   False  \n",
       "...                 ...                     ...  \n",
       "35997             False                   False  \n",
       "36068             False                   False  \n",
       "36213              True                   False  \n",
       "36598              True                   False  \n",
       "36771              True                   False  \n",
       "\n",
       "[1204 rows x 9 columns]"
      ]
     },
     "execution_count": 16,
     "metadata": {},
     "output_type": "execute_result"
    }
   ],
   "source": [
    "data[data['comments_disabled']==True]"
   ]
  },
  {
   "cell_type": "markdown",
   "id": "40153803",
   "metadata": {},
   "source": [
    "#### 2.2.3 Dropping the rows without comment count"
   ]
  },
  {
   "cell_type": "code",
   "execution_count": 17,
   "id": "d971363b",
   "metadata": {},
   "outputs": [],
   "source": [
    "data = data.loc[data['comments_disabled'] != True]"
   ]
  },
  {
   "cell_type": "code",
   "execution_count": 18,
   "id": "a7cb23a6",
   "metadata": {},
   "outputs": [
    {
     "data": {
      "text/plain": [
       "(36148, 9)"
      ]
     },
     "execution_count": 18,
     "metadata": {},
     "output_type": "execute_result"
    }
   ],
   "source": [
    "data.shape"
   ]
  },
  {
   "cell_type": "code",
   "execution_count": 19,
   "id": "ce17b812",
   "metadata": {},
   "outputs": [
    {
     "data": {
      "text/html": [
       "<div>\n",
       "<style scoped>\n",
       "    .dataframe tbody tr th:only-of-type {\n",
       "        vertical-align: middle;\n",
       "    }\n",
       "\n",
       "    .dataframe tbody tr th {\n",
       "        vertical-align: top;\n",
       "    }\n",
       "\n",
       "    .dataframe thead th {\n",
       "        text-align: right;\n",
       "    }\n",
       "</style>\n",
       "<table border=\"1\" class=\"dataframe\">\n",
       "  <thead>\n",
       "    <tr style=\"text-align: right;\">\n",
       "      <th></th>\n",
       "      <th>title</th>\n",
       "      <th>category_id</th>\n",
       "      <th>views</th>\n",
       "      <th>likes</th>\n",
       "      <th>dislikes</th>\n",
       "      <th>comment_count</th>\n",
       "      <th>comments_disabled</th>\n",
       "      <th>ratings_disabled</th>\n",
       "      <th>video_error_or_removed</th>\n",
       "    </tr>\n",
       "  </thead>\n",
       "  <tbody>\n",
       "    <tr>\n",
       "      <th>0</th>\n",
       "      <td>Sharry Mann: Cute Munda ( Song Teaser) | Parmi...</td>\n",
       "      <td>1</td>\n",
       "      <td>1096327</td>\n",
       "      <td>33966</td>\n",
       "      <td>798</td>\n",
       "      <td>882</td>\n",
       "      <td>False</td>\n",
       "      <td>False</td>\n",
       "      <td>False</td>\n",
       "    </tr>\n",
       "    <tr>\n",
       "      <th>2</th>\n",
       "      <td>Stylish Star Allu Arjun @ ChaySam Wedding Rece...</td>\n",
       "      <td>24</td>\n",
       "      <td>473988</td>\n",
       "      <td>2011</td>\n",
       "      <td>243</td>\n",
       "      <td>149</td>\n",
       "      <td>False</td>\n",
       "      <td>False</td>\n",
       "      <td>False</td>\n",
       "    </tr>\n",
       "    <tr>\n",
       "      <th>3</th>\n",
       "      <td>Eruma Saani | Tamil vs English</td>\n",
       "      <td>23</td>\n",
       "      <td>1242680</td>\n",
       "      <td>70353</td>\n",
       "      <td>1624</td>\n",
       "      <td>2684</td>\n",
       "      <td>False</td>\n",
       "      <td>False</td>\n",
       "      <td>False</td>\n",
       "    </tr>\n",
       "    <tr>\n",
       "      <th>4</th>\n",
       "      <td>why Samantha became EMOTIONAL @ Samantha naga ...</td>\n",
       "      <td>24</td>\n",
       "      <td>464015</td>\n",
       "      <td>492</td>\n",
       "      <td>293</td>\n",
       "      <td>66</td>\n",
       "      <td>False</td>\n",
       "      <td>False</td>\n",
       "      <td>False</td>\n",
       "    </tr>\n",
       "    <tr>\n",
       "      <th>5</th>\n",
       "      <td>MCA (Middle Class Abbayi) TEASER - Nani,Sai Pa...</td>\n",
       "      <td>24</td>\n",
       "      <td>6106669</td>\n",
       "      <td>98612</td>\n",
       "      <td>4185</td>\n",
       "      <td>4763</td>\n",
       "      <td>False</td>\n",
       "      <td>False</td>\n",
       "      <td>False</td>\n",
       "    </tr>\n",
       "  </tbody>\n",
       "</table>\n",
       "</div>"
      ],
      "text/plain": [
       "                                               title  category_id    views  \\\n",
       "0  Sharry Mann: Cute Munda ( Song Teaser) | Parmi...            1  1096327   \n",
       "2  Stylish Star Allu Arjun @ ChaySam Wedding Rece...           24   473988   \n",
       "3                     Eruma Saani | Tamil vs English           23  1242680   \n",
       "4  why Samantha became EMOTIONAL @ Samantha naga ...           24   464015   \n",
       "5  MCA (Middle Class Abbayi) TEASER - Nani,Sai Pa...           24  6106669   \n",
       "\n",
       "   likes  dislikes  comment_count  comments_disabled  ratings_disabled  \\\n",
       "0  33966       798            882              False             False   \n",
       "2   2011       243            149              False             False   \n",
       "3  70353      1624           2684              False             False   \n",
       "4    492       293             66              False             False   \n",
       "5  98612      4185           4763              False             False   \n",
       "\n",
       "   video_error_or_removed  \n",
       "0                   False  \n",
       "2                   False  \n",
       "3                   False  \n",
       "4                   False  \n",
       "5                   False  "
      ]
     },
     "execution_count": 19,
     "metadata": {},
     "output_type": "execute_result"
    }
   ],
   "source": [
    "data.head()"
   ]
  },
  {
   "cell_type": "markdown",
   "id": "16807797",
   "metadata": {},
   "source": [
    "#### 2.2.4 Dropping the feature comments_disabled"
   ]
  },
  {
   "cell_type": "code",
   "execution_count": 20,
   "id": "ffcde93d",
   "metadata": {},
   "outputs": [],
   "source": [
    "data.drop(['comments_disabled'],axis=1,inplace=True)"
   ]
  },
  {
   "cell_type": "code",
   "execution_count": 21,
   "id": "bc8ccf35",
   "metadata": {},
   "outputs": [
    {
     "data": {
      "text/html": [
       "<div>\n",
       "<style scoped>\n",
       "    .dataframe tbody tr th:only-of-type {\n",
       "        vertical-align: middle;\n",
       "    }\n",
       "\n",
       "    .dataframe tbody tr th {\n",
       "        vertical-align: top;\n",
       "    }\n",
       "\n",
       "    .dataframe thead th {\n",
       "        text-align: right;\n",
       "    }\n",
       "</style>\n",
       "<table border=\"1\" class=\"dataframe\">\n",
       "  <thead>\n",
       "    <tr style=\"text-align: right;\">\n",
       "      <th></th>\n",
       "      <th>title</th>\n",
       "      <th>category_id</th>\n",
       "      <th>views</th>\n",
       "      <th>likes</th>\n",
       "      <th>dislikes</th>\n",
       "      <th>comment_count</th>\n",
       "      <th>ratings_disabled</th>\n",
       "      <th>video_error_or_removed</th>\n",
       "    </tr>\n",
       "  </thead>\n",
       "  <tbody>\n",
       "    <tr>\n",
       "      <th>0</th>\n",
       "      <td>Sharry Mann: Cute Munda ( Song Teaser) | Parmi...</td>\n",
       "      <td>1</td>\n",
       "      <td>1096327</td>\n",
       "      <td>33966</td>\n",
       "      <td>798</td>\n",
       "      <td>882</td>\n",
       "      <td>False</td>\n",
       "      <td>False</td>\n",
       "    </tr>\n",
       "    <tr>\n",
       "      <th>2</th>\n",
       "      <td>Stylish Star Allu Arjun @ ChaySam Wedding Rece...</td>\n",
       "      <td>24</td>\n",
       "      <td>473988</td>\n",
       "      <td>2011</td>\n",
       "      <td>243</td>\n",
       "      <td>149</td>\n",
       "      <td>False</td>\n",
       "      <td>False</td>\n",
       "    </tr>\n",
       "    <tr>\n",
       "      <th>3</th>\n",
       "      <td>Eruma Saani | Tamil vs English</td>\n",
       "      <td>23</td>\n",
       "      <td>1242680</td>\n",
       "      <td>70353</td>\n",
       "      <td>1624</td>\n",
       "      <td>2684</td>\n",
       "      <td>False</td>\n",
       "      <td>False</td>\n",
       "    </tr>\n",
       "    <tr>\n",
       "      <th>4</th>\n",
       "      <td>why Samantha became EMOTIONAL @ Samantha naga ...</td>\n",
       "      <td>24</td>\n",
       "      <td>464015</td>\n",
       "      <td>492</td>\n",
       "      <td>293</td>\n",
       "      <td>66</td>\n",
       "      <td>False</td>\n",
       "      <td>False</td>\n",
       "    </tr>\n",
       "    <tr>\n",
       "      <th>5</th>\n",
       "      <td>MCA (Middle Class Abbayi) TEASER - Nani,Sai Pa...</td>\n",
       "      <td>24</td>\n",
       "      <td>6106669</td>\n",
       "      <td>98612</td>\n",
       "      <td>4185</td>\n",
       "      <td>4763</td>\n",
       "      <td>False</td>\n",
       "      <td>False</td>\n",
       "    </tr>\n",
       "    <tr>\n",
       "      <th>...</th>\n",
       "      <td>...</td>\n",
       "      <td>...</td>\n",
       "      <td>...</td>\n",
       "      <td>...</td>\n",
       "      <td>...</td>\n",
       "      <td>...</td>\n",
       "      <td>...</td>\n",
       "      <td>...</td>\n",
       "    </tr>\n",
       "    <tr>\n",
       "      <th>37347</th>\n",
       "      <td>फेकू आशिक़ - राजस्थान की सबसे शानदार कॉमेडी | ...</td>\n",
       "      <td>23</td>\n",
       "      <td>214378</td>\n",
       "      <td>3291</td>\n",
       "      <td>404</td>\n",
       "      <td>196</td>\n",
       "      <td>False</td>\n",
       "      <td>False</td>\n",
       "    </tr>\n",
       "    <tr>\n",
       "      <th>37348</th>\n",
       "      <td>Seetha | Flowers | Ep# 364</td>\n",
       "      <td>24</td>\n",
       "      <td>406828</td>\n",
       "      <td>1726</td>\n",
       "      <td>478</td>\n",
       "      <td>1428</td>\n",
       "      <td>False</td>\n",
       "      <td>False</td>\n",
       "    </tr>\n",
       "    <tr>\n",
       "      <th>37349</th>\n",
       "      <td>Bhramanam I Episode 87 - 12 June 2018 I Mazhav...</td>\n",
       "      <td>24</td>\n",
       "      <td>386319</td>\n",
       "      <td>1216</td>\n",
       "      <td>453</td>\n",
       "      <td>697</td>\n",
       "      <td>False</td>\n",
       "      <td>False</td>\n",
       "    </tr>\n",
       "    <tr>\n",
       "      <th>37350</th>\n",
       "      <td>Nua Bohu | Full Ep 285 | 13th June 2018 | Odia...</td>\n",
       "      <td>24</td>\n",
       "      <td>130263</td>\n",
       "      <td>698</td>\n",
       "      <td>115</td>\n",
       "      <td>65</td>\n",
       "      <td>False</td>\n",
       "      <td>False</td>\n",
       "    </tr>\n",
       "    <tr>\n",
       "      <th>37351</th>\n",
       "      <td>Ee Nagaraniki Emaindi Trailer | Tharun Bhascke...</td>\n",
       "      <td>24</td>\n",
       "      <td>1278249</td>\n",
       "      <td>22466</td>\n",
       "      <td>1609</td>\n",
       "      <td>1205</td>\n",
       "      <td>False</td>\n",
       "      <td>False</td>\n",
       "    </tr>\n",
       "  </tbody>\n",
       "</table>\n",
       "<p>36148 rows × 8 columns</p>\n",
       "</div>"
      ],
      "text/plain": [
       "                                                   title  category_id  \\\n",
       "0      Sharry Mann: Cute Munda ( Song Teaser) | Parmi...            1   \n",
       "2      Stylish Star Allu Arjun @ ChaySam Wedding Rece...           24   \n",
       "3                         Eruma Saani | Tamil vs English           23   \n",
       "4      why Samantha became EMOTIONAL @ Samantha naga ...           24   \n",
       "5      MCA (Middle Class Abbayi) TEASER - Nani,Sai Pa...           24   \n",
       "...                                                  ...          ...   \n",
       "37347  फेकू आशिक़ - राजस्थान की सबसे शानदार कॉमेडी | ...           23   \n",
       "37348                         Seetha | Flowers | Ep# 364           24   \n",
       "37349  Bhramanam I Episode 87 - 12 June 2018 I Mazhav...           24   \n",
       "37350  Nua Bohu | Full Ep 285 | 13th June 2018 | Odia...           24   \n",
       "37351  Ee Nagaraniki Emaindi Trailer | Tharun Bhascke...           24   \n",
       "\n",
       "         views  likes  dislikes  comment_count  ratings_disabled  \\\n",
       "0      1096327  33966       798            882             False   \n",
       "2       473988   2011       243            149             False   \n",
       "3      1242680  70353      1624           2684             False   \n",
       "4       464015    492       293             66             False   \n",
       "5      6106669  98612      4185           4763             False   \n",
       "...        ...    ...       ...            ...               ...   \n",
       "37347   214378   3291       404            196             False   \n",
       "37348   406828   1726       478           1428             False   \n",
       "37349   386319   1216       453            697             False   \n",
       "37350   130263    698       115             65             False   \n",
       "37351  1278249  22466      1609           1205             False   \n",
       "\n",
       "       video_error_or_removed  \n",
       "0                       False  \n",
       "2                       False  \n",
       "3                       False  \n",
       "4                       False  \n",
       "5                       False  \n",
       "...                       ...  \n",
       "37347                   False  \n",
       "37348                   False  \n",
       "37349                   False  \n",
       "37350                   False  \n",
       "37351                   False  \n",
       "\n",
       "[36148 rows x 8 columns]"
      ]
     },
     "execution_count": 21,
     "metadata": {},
     "output_type": "execute_result"
    }
   ],
   "source": [
    "data"
   ]
  },
  {
   "cell_type": "markdown",
   "id": "3f9c2749",
   "metadata": {},
   "source": [
    "#### 2.2.5 Dropping the rating disabled rows"
   ]
  },
  {
   "cell_type": "code",
   "execution_count": 22,
   "id": "5c90e0c0",
   "metadata": {},
   "outputs": [],
   "source": [
    "data = data.loc[data['ratings_disabled'] == False]"
   ]
  },
  {
   "cell_type": "code",
   "execution_count": 23,
   "id": "55959982",
   "metadata": {},
   "outputs": [
    {
     "data": {
      "text/plain": [
       "(35727, 8)"
      ]
     },
     "execution_count": 23,
     "metadata": {},
     "output_type": "execute_result"
    }
   ],
   "source": [
    "data.shape"
   ]
  },
  {
   "cell_type": "markdown",
   "id": "c19d4636",
   "metadata": {},
   "source": [
    "#### 2.2.6 Dropping the feature ratings_disabled"
   ]
  },
  {
   "cell_type": "code",
   "execution_count": 24,
   "id": "bcf992a0",
   "metadata": {},
   "outputs": [],
   "source": [
    "data=data.drop(['ratings_disabled'],axis=1)"
   ]
  },
  {
   "cell_type": "code",
   "execution_count": 25,
   "id": "b83d53f7",
   "metadata": {},
   "outputs": [
    {
     "data": {
      "text/html": [
       "<div>\n",
       "<style scoped>\n",
       "    .dataframe tbody tr th:only-of-type {\n",
       "        vertical-align: middle;\n",
       "    }\n",
       "\n",
       "    .dataframe tbody tr th {\n",
       "        vertical-align: top;\n",
       "    }\n",
       "\n",
       "    .dataframe thead th {\n",
       "        text-align: right;\n",
       "    }\n",
       "</style>\n",
       "<table border=\"1\" class=\"dataframe\">\n",
       "  <thead>\n",
       "    <tr style=\"text-align: right;\">\n",
       "      <th></th>\n",
       "      <th>title</th>\n",
       "      <th>category_id</th>\n",
       "      <th>views</th>\n",
       "      <th>likes</th>\n",
       "      <th>dislikes</th>\n",
       "      <th>comment_count</th>\n",
       "      <th>video_error_or_removed</th>\n",
       "    </tr>\n",
       "  </thead>\n",
       "  <tbody>\n",
       "    <tr>\n",
       "      <th>0</th>\n",
       "      <td>Sharry Mann: Cute Munda ( Song Teaser) | Parmi...</td>\n",
       "      <td>1</td>\n",
       "      <td>1096327</td>\n",
       "      <td>33966</td>\n",
       "      <td>798</td>\n",
       "      <td>882</td>\n",
       "      <td>False</td>\n",
       "    </tr>\n",
       "    <tr>\n",
       "      <th>2</th>\n",
       "      <td>Stylish Star Allu Arjun @ ChaySam Wedding Rece...</td>\n",
       "      <td>24</td>\n",
       "      <td>473988</td>\n",
       "      <td>2011</td>\n",
       "      <td>243</td>\n",
       "      <td>149</td>\n",
       "      <td>False</td>\n",
       "    </tr>\n",
       "    <tr>\n",
       "      <th>3</th>\n",
       "      <td>Eruma Saani | Tamil vs English</td>\n",
       "      <td>23</td>\n",
       "      <td>1242680</td>\n",
       "      <td>70353</td>\n",
       "      <td>1624</td>\n",
       "      <td>2684</td>\n",
       "      <td>False</td>\n",
       "    </tr>\n",
       "    <tr>\n",
       "      <th>4</th>\n",
       "      <td>why Samantha became EMOTIONAL @ Samantha naga ...</td>\n",
       "      <td>24</td>\n",
       "      <td>464015</td>\n",
       "      <td>492</td>\n",
       "      <td>293</td>\n",
       "      <td>66</td>\n",
       "      <td>False</td>\n",
       "    </tr>\n",
       "    <tr>\n",
       "      <th>5</th>\n",
       "      <td>MCA (Middle Class Abbayi) TEASER - Nani,Sai Pa...</td>\n",
       "      <td>24</td>\n",
       "      <td>6106669</td>\n",
       "      <td>98612</td>\n",
       "      <td>4185</td>\n",
       "      <td>4763</td>\n",
       "      <td>False</td>\n",
       "    </tr>\n",
       "    <tr>\n",
       "      <th>...</th>\n",
       "      <td>...</td>\n",
       "      <td>...</td>\n",
       "      <td>...</td>\n",
       "      <td>...</td>\n",
       "      <td>...</td>\n",
       "      <td>...</td>\n",
       "      <td>...</td>\n",
       "    </tr>\n",
       "    <tr>\n",
       "      <th>37347</th>\n",
       "      <td>फेकू आशिक़ - राजस्थान की सबसे शानदार कॉमेडी | ...</td>\n",
       "      <td>23</td>\n",
       "      <td>214378</td>\n",
       "      <td>3291</td>\n",
       "      <td>404</td>\n",
       "      <td>196</td>\n",
       "      <td>False</td>\n",
       "    </tr>\n",
       "    <tr>\n",
       "      <th>37348</th>\n",
       "      <td>Seetha | Flowers | Ep# 364</td>\n",
       "      <td>24</td>\n",
       "      <td>406828</td>\n",
       "      <td>1726</td>\n",
       "      <td>478</td>\n",
       "      <td>1428</td>\n",
       "      <td>False</td>\n",
       "    </tr>\n",
       "    <tr>\n",
       "      <th>37349</th>\n",
       "      <td>Bhramanam I Episode 87 - 12 June 2018 I Mazhav...</td>\n",
       "      <td>24</td>\n",
       "      <td>386319</td>\n",
       "      <td>1216</td>\n",
       "      <td>453</td>\n",
       "      <td>697</td>\n",
       "      <td>False</td>\n",
       "    </tr>\n",
       "    <tr>\n",
       "      <th>37350</th>\n",
       "      <td>Nua Bohu | Full Ep 285 | 13th June 2018 | Odia...</td>\n",
       "      <td>24</td>\n",
       "      <td>130263</td>\n",
       "      <td>698</td>\n",
       "      <td>115</td>\n",
       "      <td>65</td>\n",
       "      <td>False</td>\n",
       "    </tr>\n",
       "    <tr>\n",
       "      <th>37351</th>\n",
       "      <td>Ee Nagaraniki Emaindi Trailer | Tharun Bhascke...</td>\n",
       "      <td>24</td>\n",
       "      <td>1278249</td>\n",
       "      <td>22466</td>\n",
       "      <td>1609</td>\n",
       "      <td>1205</td>\n",
       "      <td>False</td>\n",
       "    </tr>\n",
       "  </tbody>\n",
       "</table>\n",
       "<p>35727 rows × 7 columns</p>\n",
       "</div>"
      ],
      "text/plain": [
       "                                                   title  category_id  \\\n",
       "0      Sharry Mann: Cute Munda ( Song Teaser) | Parmi...            1   \n",
       "2      Stylish Star Allu Arjun @ ChaySam Wedding Rece...           24   \n",
       "3                         Eruma Saani | Tamil vs English           23   \n",
       "4      why Samantha became EMOTIONAL @ Samantha naga ...           24   \n",
       "5      MCA (Middle Class Abbayi) TEASER - Nani,Sai Pa...           24   \n",
       "...                                                  ...          ...   \n",
       "37347  फेकू आशिक़ - राजस्थान की सबसे शानदार कॉमेडी | ...           23   \n",
       "37348                         Seetha | Flowers | Ep# 364           24   \n",
       "37349  Bhramanam I Episode 87 - 12 June 2018 I Mazhav...           24   \n",
       "37350  Nua Bohu | Full Ep 285 | 13th June 2018 | Odia...           24   \n",
       "37351  Ee Nagaraniki Emaindi Trailer | Tharun Bhascke...           24   \n",
       "\n",
       "         views  likes  dislikes  comment_count  video_error_or_removed  \n",
       "0      1096327  33966       798            882                   False  \n",
       "2       473988   2011       243            149                   False  \n",
       "3      1242680  70353      1624           2684                   False  \n",
       "4       464015    492       293             66                   False  \n",
       "5      6106669  98612      4185           4763                   False  \n",
       "...        ...    ...       ...            ...                     ...  \n",
       "37347   214378   3291       404            196                   False  \n",
       "37348   406828   1726       478           1428                   False  \n",
       "37349   386319   1216       453            697                   False  \n",
       "37350   130263    698       115             65                   False  \n",
       "37351  1278249  22466      1609           1205                   False  \n",
       "\n",
       "[35727 rows x 7 columns]"
      ]
     },
     "execution_count": 25,
     "metadata": {},
     "output_type": "execute_result"
    }
   ],
   "source": [
    "data"
   ]
  },
  {
   "cell_type": "markdown",
   "id": "af23eb59",
   "metadata": {},
   "source": [
    "#### Removing duplicate rows"
   ]
  },
  {
   "cell_type": "code",
   "execution_count": 26,
   "id": "49e8a9ff",
   "metadata": {},
   "outputs": [],
   "source": [
    "data = data[(data.duplicated(subset = None,keep = 'last'))==False]"
   ]
  },
  {
   "cell_type": "code",
   "execution_count": 27,
   "id": "b2911e17",
   "metadata": {},
   "outputs": [
    {
     "data": {
      "text/plain": [
       "(31606, 7)"
      ]
     },
     "execution_count": 27,
     "metadata": {},
     "output_type": "execute_result"
    }
   ],
   "source": [
    "data.shape"
   ]
  },
  {
   "cell_type": "markdown",
   "id": "a8bb12f0",
   "metadata": {},
   "source": [
    "### 2.3 Encoding"
   ]
  },
  {
   "cell_type": "code",
   "execution_count": 28,
   "id": "35f796bd",
   "metadata": {},
   "outputs": [],
   "source": [
    "# Onehot Encoding"
   ]
  },
  {
   "cell_type": "code",
   "execution_count": 29,
   "id": "d322cce5",
   "metadata": {},
   "outputs": [],
   "source": [
    "data= data.replace([True,False],['yes','no'])\n",
    "data=pd.get_dummies(data,columns=['video_error_or_removed'])"
   ]
  },
  {
   "cell_type": "code",
   "execution_count": 30,
   "id": "69282160",
   "metadata": {
    "scrolled": false
   },
   "outputs": [
    {
     "data": {
      "text/html": [
       "<div>\n",
       "<style scoped>\n",
       "    .dataframe tbody tr th:only-of-type {\n",
       "        vertical-align: middle;\n",
       "    }\n",
       "\n",
       "    .dataframe tbody tr th {\n",
       "        vertical-align: top;\n",
       "    }\n",
       "\n",
       "    .dataframe thead th {\n",
       "        text-align: right;\n",
       "    }\n",
       "</style>\n",
       "<table border=\"1\" class=\"dataframe\">\n",
       "  <thead>\n",
       "    <tr style=\"text-align: right;\">\n",
       "      <th></th>\n",
       "      <th>title</th>\n",
       "      <th>category_id</th>\n",
       "      <th>views</th>\n",
       "      <th>likes</th>\n",
       "      <th>dislikes</th>\n",
       "      <th>comment_count</th>\n",
       "      <th>video_error_or_removed_no</th>\n",
       "      <th>video_error_or_removed_yes</th>\n",
       "    </tr>\n",
       "  </thead>\n",
       "  <tbody>\n",
       "    <tr>\n",
       "      <th>0</th>\n",
       "      <td>Sharry Mann: Cute Munda ( Song Teaser) | Parmi...</td>\n",
       "      <td>1</td>\n",
       "      <td>1096327</td>\n",
       "      <td>33966</td>\n",
       "      <td>798</td>\n",
       "      <td>882</td>\n",
       "      <td>1</td>\n",
       "      <td>0</td>\n",
       "    </tr>\n",
       "    <tr>\n",
       "      <th>2</th>\n",
       "      <td>Stylish Star Allu Arjun @ ChaySam Wedding Rece...</td>\n",
       "      <td>24</td>\n",
       "      <td>473988</td>\n",
       "      <td>2011</td>\n",
       "      <td>243</td>\n",
       "      <td>149</td>\n",
       "      <td>1</td>\n",
       "      <td>0</td>\n",
       "    </tr>\n",
       "    <tr>\n",
       "      <th>3</th>\n",
       "      <td>Eruma Saani | Tamil vs English</td>\n",
       "      <td>23</td>\n",
       "      <td>1242680</td>\n",
       "      <td>70353</td>\n",
       "      <td>1624</td>\n",
       "      <td>2684</td>\n",
       "      <td>1</td>\n",
       "      <td>0</td>\n",
       "    </tr>\n",
       "    <tr>\n",
       "      <th>4</th>\n",
       "      <td>why Samantha became EMOTIONAL @ Samantha naga ...</td>\n",
       "      <td>24</td>\n",
       "      <td>464015</td>\n",
       "      <td>492</td>\n",
       "      <td>293</td>\n",
       "      <td>66</td>\n",
       "      <td>1</td>\n",
       "      <td>0</td>\n",
       "    </tr>\n",
       "    <tr>\n",
       "      <th>5</th>\n",
       "      <td>MCA (Middle Class Abbayi) TEASER - Nani,Sai Pa...</td>\n",
       "      <td>24</td>\n",
       "      <td>6106669</td>\n",
       "      <td>98612</td>\n",
       "      <td>4185</td>\n",
       "      <td>4763</td>\n",
       "      <td>1</td>\n",
       "      <td>0</td>\n",
       "    </tr>\n",
       "    <tr>\n",
       "      <th>...</th>\n",
       "      <td>...</td>\n",
       "      <td>...</td>\n",
       "      <td>...</td>\n",
       "      <td>...</td>\n",
       "      <td>...</td>\n",
       "      <td>...</td>\n",
       "      <td>...</td>\n",
       "      <td>...</td>\n",
       "    </tr>\n",
       "    <tr>\n",
       "      <th>37347</th>\n",
       "      <td>फेकू आशिक़ - राजस्थान की सबसे शानदार कॉमेडी | ...</td>\n",
       "      <td>23</td>\n",
       "      <td>214378</td>\n",
       "      <td>3291</td>\n",
       "      <td>404</td>\n",
       "      <td>196</td>\n",
       "      <td>1</td>\n",
       "      <td>0</td>\n",
       "    </tr>\n",
       "    <tr>\n",
       "      <th>37348</th>\n",
       "      <td>Seetha | Flowers | Ep# 364</td>\n",
       "      <td>24</td>\n",
       "      <td>406828</td>\n",
       "      <td>1726</td>\n",
       "      <td>478</td>\n",
       "      <td>1428</td>\n",
       "      <td>1</td>\n",
       "      <td>0</td>\n",
       "    </tr>\n",
       "    <tr>\n",
       "      <th>37349</th>\n",
       "      <td>Bhramanam I Episode 87 - 12 June 2018 I Mazhav...</td>\n",
       "      <td>24</td>\n",
       "      <td>386319</td>\n",
       "      <td>1216</td>\n",
       "      <td>453</td>\n",
       "      <td>697</td>\n",
       "      <td>1</td>\n",
       "      <td>0</td>\n",
       "    </tr>\n",
       "    <tr>\n",
       "      <th>37350</th>\n",
       "      <td>Nua Bohu | Full Ep 285 | 13th June 2018 | Odia...</td>\n",
       "      <td>24</td>\n",
       "      <td>130263</td>\n",
       "      <td>698</td>\n",
       "      <td>115</td>\n",
       "      <td>65</td>\n",
       "      <td>1</td>\n",
       "      <td>0</td>\n",
       "    </tr>\n",
       "    <tr>\n",
       "      <th>37351</th>\n",
       "      <td>Ee Nagaraniki Emaindi Trailer | Tharun Bhascke...</td>\n",
       "      <td>24</td>\n",
       "      <td>1278249</td>\n",
       "      <td>22466</td>\n",
       "      <td>1609</td>\n",
       "      <td>1205</td>\n",
       "      <td>1</td>\n",
       "      <td>0</td>\n",
       "    </tr>\n",
       "  </tbody>\n",
       "</table>\n",
       "<p>31606 rows × 8 columns</p>\n",
       "</div>"
      ],
      "text/plain": [
       "                                                   title  category_id  \\\n",
       "0      Sharry Mann: Cute Munda ( Song Teaser) | Parmi...            1   \n",
       "2      Stylish Star Allu Arjun @ ChaySam Wedding Rece...           24   \n",
       "3                         Eruma Saani | Tamil vs English           23   \n",
       "4      why Samantha became EMOTIONAL @ Samantha naga ...           24   \n",
       "5      MCA (Middle Class Abbayi) TEASER - Nani,Sai Pa...           24   \n",
       "...                                                  ...          ...   \n",
       "37347  फेकू आशिक़ - राजस्थान की सबसे शानदार कॉमेडी | ...           23   \n",
       "37348                         Seetha | Flowers | Ep# 364           24   \n",
       "37349  Bhramanam I Episode 87 - 12 June 2018 I Mazhav...           24   \n",
       "37350  Nua Bohu | Full Ep 285 | 13th June 2018 | Odia...           24   \n",
       "37351  Ee Nagaraniki Emaindi Trailer | Tharun Bhascke...           24   \n",
       "\n",
       "         views  likes  dislikes  comment_count  video_error_or_removed_no  \\\n",
       "0      1096327  33966       798            882                          1   \n",
       "2       473988   2011       243            149                          1   \n",
       "3      1242680  70353      1624           2684                          1   \n",
       "4       464015    492       293             66                          1   \n",
       "5      6106669  98612      4185           4763                          1   \n",
       "...        ...    ...       ...            ...                        ...   \n",
       "37347   214378   3291       404            196                          1   \n",
       "37348   406828   1726       478           1428                          1   \n",
       "37349   386319   1216       453            697                          1   \n",
       "37350   130263    698       115             65                          1   \n",
       "37351  1278249  22466      1609           1205                          1   \n",
       "\n",
       "       video_error_or_removed_yes  \n",
       "0                               0  \n",
       "2                               0  \n",
       "3                               0  \n",
       "4                               0  \n",
       "5                               0  \n",
       "...                           ...  \n",
       "37347                           0  \n",
       "37348                           0  \n",
       "37349                           0  \n",
       "37350                           0  \n",
       "37351                           0  \n",
       "\n",
       "[31606 rows x 8 columns]"
      ]
     },
     "execution_count": 30,
     "metadata": {},
     "output_type": "execute_result"
    }
   ],
   "source": [
    "data"
   ]
  },
  {
   "cell_type": "markdown",
   "id": "b326ec67",
   "metadata": {},
   "source": [
    "### 2.4 Feature Engineering"
   ]
  },
  {
   "cell_type": "markdown",
   "id": "b946a70b",
   "metadata": {},
   "source": [
    "Creating a new feature 'engagement' that would serve as the target feature for our model. 'engagement' is the total of likes, dislikes and comments in a video"
   ]
  },
  {
   "cell_type": "code",
   "execution_count": 31,
   "id": "9ec80f4e",
   "metadata": {},
   "outputs": [],
   "source": [
    "data['engagement']=data['likes']+data[ 'dislikes']+data['comment_count']"
   ]
  },
  {
   "cell_type": "code",
   "execution_count": 32,
   "id": "eb60f89b",
   "metadata": {},
   "outputs": [
    {
     "data": {
      "text/html": [
       "<div>\n",
       "<style scoped>\n",
       "    .dataframe tbody tr th:only-of-type {\n",
       "        vertical-align: middle;\n",
       "    }\n",
       "\n",
       "    .dataframe tbody tr th {\n",
       "        vertical-align: top;\n",
       "    }\n",
       "\n",
       "    .dataframe thead th {\n",
       "        text-align: right;\n",
       "    }\n",
       "</style>\n",
       "<table border=\"1\" class=\"dataframe\">\n",
       "  <thead>\n",
       "    <tr style=\"text-align: right;\">\n",
       "      <th></th>\n",
       "      <th>title</th>\n",
       "      <th>category_id</th>\n",
       "      <th>views</th>\n",
       "      <th>likes</th>\n",
       "      <th>dislikes</th>\n",
       "      <th>comment_count</th>\n",
       "      <th>video_error_or_removed_no</th>\n",
       "      <th>video_error_or_removed_yes</th>\n",
       "      <th>engagement</th>\n",
       "    </tr>\n",
       "  </thead>\n",
       "  <tbody>\n",
       "    <tr>\n",
       "      <th>0</th>\n",
       "      <td>Sharry Mann: Cute Munda ( Song Teaser) | Parmi...</td>\n",
       "      <td>1</td>\n",
       "      <td>1096327</td>\n",
       "      <td>33966</td>\n",
       "      <td>798</td>\n",
       "      <td>882</td>\n",
       "      <td>1</td>\n",
       "      <td>0</td>\n",
       "      <td>35646</td>\n",
       "    </tr>\n",
       "    <tr>\n",
       "      <th>2</th>\n",
       "      <td>Stylish Star Allu Arjun @ ChaySam Wedding Rece...</td>\n",
       "      <td>24</td>\n",
       "      <td>473988</td>\n",
       "      <td>2011</td>\n",
       "      <td>243</td>\n",
       "      <td>149</td>\n",
       "      <td>1</td>\n",
       "      <td>0</td>\n",
       "      <td>2403</td>\n",
       "    </tr>\n",
       "    <tr>\n",
       "      <th>3</th>\n",
       "      <td>Eruma Saani | Tamil vs English</td>\n",
       "      <td>23</td>\n",
       "      <td>1242680</td>\n",
       "      <td>70353</td>\n",
       "      <td>1624</td>\n",
       "      <td>2684</td>\n",
       "      <td>1</td>\n",
       "      <td>0</td>\n",
       "      <td>74661</td>\n",
       "    </tr>\n",
       "    <tr>\n",
       "      <th>4</th>\n",
       "      <td>why Samantha became EMOTIONAL @ Samantha naga ...</td>\n",
       "      <td>24</td>\n",
       "      <td>464015</td>\n",
       "      <td>492</td>\n",
       "      <td>293</td>\n",
       "      <td>66</td>\n",
       "      <td>1</td>\n",
       "      <td>0</td>\n",
       "      <td>851</td>\n",
       "    </tr>\n",
       "    <tr>\n",
       "      <th>5</th>\n",
       "      <td>MCA (Middle Class Abbayi) TEASER - Nani,Sai Pa...</td>\n",
       "      <td>24</td>\n",
       "      <td>6106669</td>\n",
       "      <td>98612</td>\n",
       "      <td>4185</td>\n",
       "      <td>4763</td>\n",
       "      <td>1</td>\n",
       "      <td>0</td>\n",
       "      <td>107560</td>\n",
       "    </tr>\n",
       "    <tr>\n",
       "      <th>...</th>\n",
       "      <td>...</td>\n",
       "      <td>...</td>\n",
       "      <td>...</td>\n",
       "      <td>...</td>\n",
       "      <td>...</td>\n",
       "      <td>...</td>\n",
       "      <td>...</td>\n",
       "      <td>...</td>\n",
       "      <td>...</td>\n",
       "    </tr>\n",
       "    <tr>\n",
       "      <th>37347</th>\n",
       "      <td>फेकू आशिक़ - राजस्थान की सबसे शानदार कॉमेडी | ...</td>\n",
       "      <td>23</td>\n",
       "      <td>214378</td>\n",
       "      <td>3291</td>\n",
       "      <td>404</td>\n",
       "      <td>196</td>\n",
       "      <td>1</td>\n",
       "      <td>0</td>\n",
       "      <td>3891</td>\n",
       "    </tr>\n",
       "    <tr>\n",
       "      <th>37348</th>\n",
       "      <td>Seetha | Flowers | Ep# 364</td>\n",
       "      <td>24</td>\n",
       "      <td>406828</td>\n",
       "      <td>1726</td>\n",
       "      <td>478</td>\n",
       "      <td>1428</td>\n",
       "      <td>1</td>\n",
       "      <td>0</td>\n",
       "      <td>3632</td>\n",
       "    </tr>\n",
       "    <tr>\n",
       "      <th>37349</th>\n",
       "      <td>Bhramanam I Episode 87 - 12 June 2018 I Mazhav...</td>\n",
       "      <td>24</td>\n",
       "      <td>386319</td>\n",
       "      <td>1216</td>\n",
       "      <td>453</td>\n",
       "      <td>697</td>\n",
       "      <td>1</td>\n",
       "      <td>0</td>\n",
       "      <td>2366</td>\n",
       "    </tr>\n",
       "    <tr>\n",
       "      <th>37350</th>\n",
       "      <td>Nua Bohu | Full Ep 285 | 13th June 2018 | Odia...</td>\n",
       "      <td>24</td>\n",
       "      <td>130263</td>\n",
       "      <td>698</td>\n",
       "      <td>115</td>\n",
       "      <td>65</td>\n",
       "      <td>1</td>\n",
       "      <td>0</td>\n",
       "      <td>878</td>\n",
       "    </tr>\n",
       "    <tr>\n",
       "      <th>37351</th>\n",
       "      <td>Ee Nagaraniki Emaindi Trailer | Tharun Bhascke...</td>\n",
       "      <td>24</td>\n",
       "      <td>1278249</td>\n",
       "      <td>22466</td>\n",
       "      <td>1609</td>\n",
       "      <td>1205</td>\n",
       "      <td>1</td>\n",
       "      <td>0</td>\n",
       "      <td>25280</td>\n",
       "    </tr>\n",
       "  </tbody>\n",
       "</table>\n",
       "<p>31606 rows × 9 columns</p>\n",
       "</div>"
      ],
      "text/plain": [
       "                                                   title  category_id  \\\n",
       "0      Sharry Mann: Cute Munda ( Song Teaser) | Parmi...            1   \n",
       "2      Stylish Star Allu Arjun @ ChaySam Wedding Rece...           24   \n",
       "3                         Eruma Saani | Tamil vs English           23   \n",
       "4      why Samantha became EMOTIONAL @ Samantha naga ...           24   \n",
       "5      MCA (Middle Class Abbayi) TEASER - Nani,Sai Pa...           24   \n",
       "...                                                  ...          ...   \n",
       "37347  फेकू आशिक़ - राजस्थान की सबसे शानदार कॉमेडी | ...           23   \n",
       "37348                         Seetha | Flowers | Ep# 364           24   \n",
       "37349  Bhramanam I Episode 87 - 12 June 2018 I Mazhav...           24   \n",
       "37350  Nua Bohu | Full Ep 285 | 13th June 2018 | Odia...           24   \n",
       "37351  Ee Nagaraniki Emaindi Trailer | Tharun Bhascke...           24   \n",
       "\n",
       "         views  likes  dislikes  comment_count  video_error_or_removed_no  \\\n",
       "0      1096327  33966       798            882                          1   \n",
       "2       473988   2011       243            149                          1   \n",
       "3      1242680  70353      1624           2684                          1   \n",
       "4       464015    492       293             66                          1   \n",
       "5      6106669  98612      4185           4763                          1   \n",
       "...        ...    ...       ...            ...                        ...   \n",
       "37347   214378   3291       404            196                          1   \n",
       "37348   406828   1726       478           1428                          1   \n",
       "37349   386319   1216       453            697                          1   \n",
       "37350   130263    698       115             65                          1   \n",
       "37351  1278249  22466      1609           1205                          1   \n",
       "\n",
       "       video_error_or_removed_yes  engagement  \n",
       "0                               0       35646  \n",
       "2                               0        2403  \n",
       "3                               0       74661  \n",
       "4                               0         851  \n",
       "5                               0      107560  \n",
       "...                           ...         ...  \n",
       "37347                           0        3891  \n",
       "37348                           0        3632  \n",
       "37349                           0        2366  \n",
       "37350                           0         878  \n",
       "37351                           0       25280  \n",
       "\n",
       "[31606 rows x 9 columns]"
      ]
     },
     "execution_count": 32,
     "metadata": {},
     "output_type": "execute_result"
    }
   ],
   "source": [
    "data"
   ]
  },
  {
   "cell_type": "markdown",
   "id": "c6c4d259",
   "metadata": {},
   "source": [
    "## 3. Exploratory Data Analysis"
   ]
  },
  {
   "cell_type": "markdown",
   "id": "aad3e9b2",
   "metadata": {},
   "source": [
    "### 3.1 Bivariate analysis"
   ]
  },
  {
   "cell_type": "code",
   "execution_count": 33,
   "id": "db8ce6fd",
   "metadata": {},
   "outputs": [],
   "source": [
    "#Plotting 'views' vs 'engagement'"
   ]
  },
  {
   "cell_type": "code",
   "execution_count": 34,
   "id": "2fb619f1",
   "metadata": {},
   "outputs": [
    {
     "data": {
      "image/png": "[encoded data removed]",
      "text/plain": [
       "<Figure size 1440x1440 with 1 Axes>"
      ]
     },
     "metadata": {
      "needs_background": "light"
     },
     "output_type": "display_data"
    }
   ],
   "source": [
    "plt.figure(figsize=(20,20))\n",
    "sns.lineplot(data=data, x='views', y='engagement')\n",
    "plt.title('views Vs engagement',size=30)\n",
    "plt.show()"
   ]
  },
  {
   "cell_type": "markdown",
   "id": "1234d0f6",
   "metadata": {},
   "source": [
    "#### Generally engagement increases with views. But spikes can be seen depending on category."
   ]
  },
  {
   "cell_type": "markdown",
   "id": "21fd1864",
   "metadata": {},
   "source": [
    "### 3.2 Univariate Analysis"
   ]
  },
  {
   "cell_type": "code",
   "execution_count": 35,
   "id": "ba8430a8",
   "metadata": {},
   "outputs": [
    {
     "data": {
      "image/png": "[encoded data removed]",
      "text/plain": [
       "<Figure size 1440x1440 with 1 Axes>"
      ]
     },
     "metadata": {
      "needs_background": "light"
     },
     "output_type": "display_data"
    }
   ],
   "source": [
    "plt.figure(figsize=(20,20))\n",
    "sns.lineplot(data=data, x='category_id', y='views')\n",
    "plt.title('category_id Vs views',size=30)\n",
    "plt.show()"
   ]
  },
  {
   "cell_type": "markdown",
   "id": "d61b3d1c",
   "metadata": {},
   "source": [
    "#### It is clear that certain categories attract more views than other"
   ]
  },
  {
   "cell_type": "code",
   "execution_count": 36,
   "id": "83687dde",
   "metadata": {
    "scrolled": true
   },
   "outputs": [
    {
     "data": {
      "image/png": "[encoded data removed]",
      "text/plain": [
       "<Figure size 1440x1440 with 1 Axes>"
      ]
     },
     "metadata": {
      "needs_background": "light"
     },
     "output_type": "display_data"
    }
   ],
   "source": [
    "plt.figure(figsize=(20,20))\n",
    "sns.lineplot(data=data, x='category_id', y='engagement')\n",
    "plt.title('category_id Vs engagement',size=30)\n",
    "plt.show()"
   ]
  },
  {
   "cell_type": "markdown",
   "id": "5ab28c23",
   "metadata": {},
   "source": [
    "#### It is clear that certain categories attract more engagement than other"
   ]
  },
  {
   "cell_type": "markdown",
   "id": "b0e627e5",
   "metadata": {},
   "source": [
    "## 4. Modelling"
   ]
  },
  {
   "cell_type": "code",
   "execution_count": 37,
   "id": "cd1b9116",
   "metadata": {},
   "outputs": [],
   "source": [
    "x=data[['category_id','views','video_error_or_removed_yes','video_error_or_removed_no']]\n",
    "y = data['engagement']"
   ]
  },
  {
   "cell_type": "markdown",
   "id": "cd045dd1",
   "metadata": {},
   "source": [
    "### Standardization"
   ]
  },
  {
   "cell_type": "code",
   "execution_count": 38,
   "id": "5bcb02a7",
   "metadata": {},
   "outputs": [],
   "source": [
    "from sklearn import preprocessing\n",
    "standardisation=preprocessing.StandardScaler()\n",
    "x=standardisation.fit_transform(x)\n",
    "x=pd.DataFrame(x)\n"
   ]
  },
  {
   "cell_type": "code",
   "execution_count": 39,
   "id": "6d556363",
   "metadata": {},
   "outputs": [
    {
     "data": {
      "text/html": [
       "<div>\n",
       "<style scoped>\n",
       "    .dataframe tbody tr th:only-of-type {\n",
       "        vertical-align: middle;\n",
       "    }\n",
       "\n",
       "    .dataframe tbody tr th {\n",
       "        vertical-align: top;\n",
       "    }\n",
       "\n",
       "    .dataframe thead th {\n",
       "        text-align: right;\n",
       "    }\n",
       "</style>\n",
       "<table border=\"1\" class=\"dataframe\">\n",
       "  <thead>\n",
       "    <tr style=\"text-align: right;\">\n",
       "      <th></th>\n",
       "      <th>0</th>\n",
       "      <th>1</th>\n",
       "      <th>2</th>\n",
       "      <th>3</th>\n",
       "    </tr>\n",
       "  </thead>\n",
       "  <tbody>\n",
       "    <tr>\n",
       "      <th>0</th>\n",
       "      <td>-3.154766</td>\n",
       "      <td>0.022396</td>\n",
       "      <td>-0.016877</td>\n",
       "      <td>0.016877</td>\n",
       "    </tr>\n",
       "    <tr>\n",
       "      <th>1</th>\n",
       "      <td>0.374732</td>\n",
       "      <td>-0.171179</td>\n",
       "      <td>-0.016877</td>\n",
       "      <td>0.016877</td>\n",
       "    </tr>\n",
       "    <tr>\n",
       "      <th>2</th>\n",
       "      <td>0.221275</td>\n",
       "      <td>0.067919</td>\n",
       "      <td>-0.016877</td>\n",
       "      <td>0.016877</td>\n",
       "    </tr>\n",
       "    <tr>\n",
       "      <th>3</th>\n",
       "      <td>0.374732</td>\n",
       "      <td>-0.174281</td>\n",
       "      <td>-0.016877</td>\n",
       "      <td>0.016877</td>\n",
       "    </tr>\n",
       "    <tr>\n",
       "      <th>4</th>\n",
       "      <td>0.374732</td>\n",
       "      <td>1.580838</td>\n",
       "      <td>-0.016877</td>\n",
       "      <td>0.016877</td>\n",
       "    </tr>\n",
       "  </tbody>\n",
       "</table>\n",
       "</div>"
      ],
      "text/plain": [
       "          0         1         2         3\n",
       "0 -3.154766  0.022396 -0.016877  0.016877\n",
       "1  0.374732 -0.171179 -0.016877  0.016877\n",
       "2  0.221275  0.067919 -0.016877  0.016877\n",
       "3  0.374732 -0.174281 -0.016877  0.016877\n",
       "4  0.374732  1.580838 -0.016877  0.016877"
      ]
     },
     "execution_count": 39,
     "metadata": {},
     "output_type": "execute_result"
    }
   ],
   "source": [
    "x.head()"
   ]
  },
  {
   "cell_type": "markdown",
   "id": "1aad249e",
   "metadata": {},
   "source": [
    "### 4.1 Linear Regression Model"
   ]
  },
  {
   "cell_type": "code",
   "execution_count": 40,
   "id": "3877d9e5",
   "metadata": {},
   "outputs": [
    {
     "name": "stdout",
     "output_type": "stream",
     "text": [
      "MSE is :  4291919761.044155\n",
      "R squared value is :  0.7863194395377224\n"
     ]
    }
   ],
   "source": [
    "from sklearn.model_selection import train_test_split\n",
    "\n",
    "xtrain,xtest,ytrain,ytest = train_test_split(x,y,random_state=42,test_size=0.2)\n",
    "\n",
    "from sklearn import linear_model\n",
    "\n",
    "lr = linear_model.LinearRegression()\n",
    "model = lr.fit(xtrain,ytrain)\n",
    "predictions = model.predict(xtest)\n",
    "\n",
    "from sklearn.metrics import mean_squared_error\n",
    "\n",
    "print(\"MSE is : \",mean_squared_error(ytest,predictions))\n",
    "\n",
    "from sklearn.metrics import r2_score\n",
    "\n",
    "print(\"R squared value is : \",r2_score(ytest,predictions))\n",
    "\n",
    "\n",
    "          "
   ]
  },
  {
   "cell_type": "markdown",
   "id": "949a6a5f",
   "metadata": {},
   "source": [
    "### 4.2 Random Forest Regression model"
   ]
  },
  {
   "cell_type": "code",
   "execution_count": 41,
   "id": "bb9e2c4d",
   "metadata": {},
   "outputs": [
    {
     "name": "stdout",
     "output_type": "stream",
     "text": [
      "MSE is :  3841498808.3153214\n",
      "R squared value is :  0.8087444164668427\n"
     ]
    }
   ],
   "source": [
    "from sklearn.ensemble import RandomForestRegressor\n",
    "rf=RandomForestRegressor()\n",
    "rf.fit(xtrain,ytrain)\n",
    "ypredictions=rf.predict(xtest)\n",
    "print(\"MSE is : \",mean_squared_error(ytest,ypredictions))\n",
    "\n",
    "\n",
    "\n",
    "print(\"R squared value is : \",r2_score(ytest,ypredictions))"
   ]
  },
  {
   "cell_type": "markdown",
   "id": "d13ddfa0",
   "metadata": {},
   "source": [
    "### 4.3 SVM model"
   ]
  },
  {
   "cell_type": "code",
   "execution_count": 42,
   "id": "b51fd2d2",
   "metadata": {
    "scrolled": true
   },
   "outputs": [
    {
     "name": "stdout",
     "output_type": "stream",
     "text": [
      "MSE is :  20796156301.479317\n",
      "R squared value is :  -0.03537218339798032\n"
     ]
    }
   ],
   "source": [
    "from sklearn.svm import SVR\n",
    "svm_linear=SVR(kernel='rbf')\n",
    "svm_linear.fit(xtrain,ytrain)\n",
    "ypredictions=svm_linear.predict(xtest)\n",
    "\n",
    "\n",
    "print(\"MSE is : \",mean_squared_error(ytest,ypredictions))\n",
    "\n",
    "\n",
    "\n",
    "print(\"R squared value is : \",r2_score(ytest,ypredictions))\n"
   ]
  },
  {
   "cell_type": "markdown",
   "id": "1740e180",
   "metadata": {},
   "source": [
    "### 4.4 kNN model"
   ]
  },
  {
   "cell_type": "code",
   "execution_count": 43,
   "id": "69ad70f7",
   "metadata": {},
   "outputs": [
    {
     "name": "stdout",
     "output_type": "stream",
     "text": [
      "MSE value for k=  3 is: 4090846758.658477\n",
      "R2  k=  3 is: 0.7963302026078019\n",
      "MSE value for k=  4 is: 3960097432.626908\n",
      "R2  k=  4 is: 0.8028397812630407\n",
      "MSE value for k=  5 is: 3759931666.8352923\n",
      "R2  k=  5 is: 0.8128053760087606\n",
      "MSE value for k=  6 is: 3867938880.306492\n",
      "R2  k=  6 is: 0.8074280522950293\n",
      "MSE value for k=  7 is: 3935483986.9485183\n",
      "R2  k=  7 is: 0.8040652037220539\n",
      "MSE value for k=  8 is: 4160679169.1604195\n",
      "R2  k=  8 is: 0.7928534767030154\n",
      "MSE value for k=  9 is: 4400621539.847856\n",
      "R2  k=  9 is: 0.7809075357018571\n",
      "MSE value for k=  10 is: 4420824049.098426\n",
      "R2  k=  10 is: 0.7799017192514685\n",
      "MSE value for k=  11 is: 4637249557.365905\n",
      "R2  k=  11 is: 0.7691266054376731\n",
      "MSE value for k=  12 is: 4785752185.937951\n",
      "R2  k=  12 is: 0.7617331482739548\n",
      "MSE value for k=  13 is: 4967389019.495781\n",
      "R2  k=  13 is: 0.7526900480865952\n",
      "MSE value for k=  14 is: 5050457273.585206\n",
      "R2  k=  14 is: 0.7485543530879234\n"
     ]
    }
   ],
   "source": [
    "from sklearn.neighbors import KNeighborsRegressor\n",
    "mse_val = []\n",
    "r=[]\n",
    "for K in range(3,15):\n",
    "    model = KNeighborsRegressor(n_neighbors = K)\n",
    "    model.fit(xtrain, ytrain)  \n",
    "    pred=model.predict(xtest) \n",
    "    error = (mean_squared_error(ytest,pred)) \n",
    "    r2=r2_score(ytest,pred)\n",
    "    mse_val.append(error)\n",
    "    r.append(r2)\n",
    "    \n",
    "    print('MSE value for k= ' , K , 'is:',error)\n",
    "    print('R2  k= ' , K , 'is:', r2)"
   ]
  },
  {
   "cell_type": "code",
   "execution_count": 44,
   "id": "1da33195",
   "metadata": {},
   "outputs": [],
   "source": [
    "#The best attribute for the model is shown at k=5"
   ]
  },
  {
   "cell_type": "code",
   "execution_count": 45,
   "id": "0f1e6552",
   "metadata": {},
   "outputs": [
    {
     "name": "stdout",
     "output_type": "stream",
     "text": [
      "MSE is :  3759931666.8352923\n",
      "R squared value is :  0.8128053760087606\n"
     ]
    }
   ],
   "source": [
    "Regressor=KNeighborsRegressor(n_neighbors=5,metric='minkowski')\n",
    "Regressor.fit(xtrain,ytrain)\n",
    "y_pred=Regressor.predict(xtest)\n",
    "\n",
    "print(\"MSE is : \",mean_squared_error(ytest,y_pred))\n",
    "\n",
    "print(\"R squared value is : \",r2_score(ytest,y_pred))"
   ]
  },
  {
   "cell_type": "markdown",
   "id": "b4c5f4c1",
   "metadata": {},
   "source": [
    "### 4.5 XGBoost"
   ]
  },
  {
   "cell_type": "code",
   "execution_count": 46,
   "id": "7a2bb988",
   "metadata": {},
   "outputs": [
    {
     "name": "stdout",
     "output_type": "stream",
     "text": [
      "MSE is :  3630943352.02824\n",
      "R squared value is :  0.8192272797105088\n"
     ]
    }
   ],
   "source": [
    "from xgboost import XGBRegressor\n",
    "xgb=XGBRegressor()\n",
    "xgb.fit(xtrain,ytrain)\n",
    "y_pred=xgb.predict(xtest)\n",
    "\n",
    "print(\"MSE is : \",mean_squared_error(ytest,y_pred))\n",
    "\n",
    "\n",
    "print(\"R squared value is : \",r2_score(ytest,y_pred))\n"
   ]
  },
  {
   "cell_type": "markdown",
   "id": "e139f3ee",
   "metadata": {},
   "source": [
    "#### We have arrived at the inference that XGBoost model performs best for our dataset. Hence we will fine tune the same."
   ]
  },
  {
   "cell_type": "markdown",
   "id": "f24e0efe",
   "metadata": {},
   "source": [
    "## 5. Model Fine Tuning"
   ]
  },
  {
   "cell_type": "code",
   "execution_count": 47,
   "id": "014c6f98",
   "metadata": {},
   "outputs": [
    {
     "name": "stdout",
     "output_type": "stream",
     "text": [
      "MSE is :  3554920572.985908\n",
      "R squared value is :  0.8230122036928047\n"
     ]
    }
   ],
   "source": [
    "xgb=XGBRegressor(verbosity=0,max_depth=7,min_child_weight=2,random_state=42,n_estimators=200)\n",
    "xgb.fit(xtrain,ytrain)\n",
    "y_pred=xgb.predict(xtest)\n",
    "print(\"MSE is : \",mean_squared_error(ytest,y_pred))\n",
    "\n",
    "print(\"R squared value is : \",r2_score(ytest,y_pred))"
   ]
  },
  {
   "cell_type": "markdown",
   "id": "a8b07414",
   "metadata": {},
   "source": [
    "##### Fine tuning improved the performance of the model"
   ]
  }
 ],
 "metadata": {
  "kernelspec": {
   "display_name": "Python 3",
   "language": "python",
   "name": "python3"
  },
  "language_info": {
   "codemirror_mode": {
    "name": "ipython",
    "version": 3
   },
   "file_extension": ".py",
   "mimetype": "text/x-python",
   "name": "python",
   "nbconvert_exporter": "python",
   "pygments_lexer": "ipython3",
   "version": "3.8.8"
  }
 },
 "nbformat": 4,
 "nbformat_minor": 5
}
